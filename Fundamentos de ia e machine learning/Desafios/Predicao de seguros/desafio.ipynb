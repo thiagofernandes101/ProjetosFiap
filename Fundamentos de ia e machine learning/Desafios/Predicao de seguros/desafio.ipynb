{
 "cells": [
  {
   "cell_type": "markdown",
   "id": "a5228aa1",
   "metadata": {},
   "source": [
    "## Desafio\n",
    "\n",
    "- Criar um modelo preditivo de regressão para prever o valor dos custos médicos individuais (encargos) cobrados pelo seguro de vida\n",
    "\n",
    "## Sobre a base de dados\n",
    "\n",
    "- A base de dados contém 1338 linhas com informações sobre a idade da pessoa, gênero, índice de massa corporal (IMC), número de filho, flag de verificação se a pessoa é fumante, região residencial do benefício e o valor do custo médico\n",
    "\n",
    "## Dicionário de dados\n",
    "\n",
    "- **Idade:** idade do beneficiário principal\n",
    "- **Gênero:** gênero do contratante de seguros\n",
    "- **IMC:** índice de massa corporal, fornecendo uma compreensão do corpo, peso relativamente altos ou baixos em relação à altura\n",
    "- **Filhos:** número de filhos cobertos por seguro saúde / Número de dependentes\n",
    "- **Fumante:** se a pessoa fuma (sim ou não)\n",
    "- **Região:** a área residencial do beneficiário nos EUA (nordeste, sudeste, sudoeste ou noroeste)\n",
    "- **Encargos:** custos médicos individuais cobrados pelo seguro de saúde"
   ]
  },
  {
   "cell_type": "code",
   "execution_count": 299,
   "id": "2a8a939f",
   "metadata": {},
   "outputs": [],
   "source": [
    "import pandas as pd\n",
    "import matplotlib.pyplot as plt\n",
    "import numpy as np\n",
    "import seaborn as sns\n",
    "\n",
    "from sklearn.preprocessing import LabelEncoder\n",
    "from sklearn.preprocessing import OneHotEncoder\n",
    "from sklearn.model_selection import train_test_split\n",
    "from sklearn.preprocessing import StandardScaler, MinMaxScaler, RobustScaler\n",
    "from sklearn.linear_model import LinearRegression\n",
    "from sklearn.metrics import mean_squared_error, r2_score"
   ]
  },
  {
   "cell_type": "code",
   "execution_count": 300,
   "id": "a0eb1ac2",
   "metadata": {},
   "outputs": [
    {
     "name": "stdout",
     "output_type": "stream",
     "text": [
      "<class 'pandas.core.frame.DataFrame'>\n",
      "RangeIndex: 1338 entries, 0 to 1337\n",
      "Data columns (total 7 columns):\n",
      " #   Column    Non-Null Count  Dtype  \n",
      "---  ------    --------------  -----  \n",
      " 0   age       1338 non-null   int64  \n",
      " 1   sex       1338 non-null   object \n",
      " 2   bmi       1338 non-null   float64\n",
      " 3   children  1338 non-null   int64  \n",
      " 4   smoker    1338 non-null   object \n",
      " 5   region    1338 non-null   object \n",
      " 6   charges   1338 non-null   float64\n",
      "dtypes: float64(2), int64(2), object(3)\n",
      "memory usage: 73.3+ KB\n"
     ]
    }
   ],
   "source": [
    "insurance_data_frame = pd.read_csv('insurance.csv')\n",
    "insurance_data_frame.info()"
   ]
  },
  {
   "cell_type": "markdown",
   "id": "6a6a8cc8",
   "metadata": {},
   "source": [
    "**Observações:**\n",
    "- Nenhum valor nulo nas colunas (todos os 1338 registros são válidos)\n",
    "- Há três colunas categóricas (object) que podem ser tratadas. As colunas são 'sex', 'smoker', 'region'"
   ]
  },
  {
   "cell_type": "code",
   "execution_count": 301,
   "id": "8e93a037",
   "metadata": {},
   "outputs": [
    {
     "data": {
      "text/html": [
       "<div>\n",
       "<style scoped>\n",
       "    .dataframe tbody tr th:only-of-type {\n",
       "        vertical-align: middle;\n",
       "    }\n",
       "\n",
       "    .dataframe tbody tr th {\n",
       "        vertical-align: top;\n",
       "    }\n",
       "\n",
       "    .dataframe thead th {\n",
       "        text-align: right;\n",
       "    }\n",
       "</style>\n",
       "<table border=\"1\" class=\"dataframe\">\n",
       "  <thead>\n",
       "    <tr style=\"text-align: right;\">\n",
       "      <th></th>\n",
       "      <th>age</th>\n",
       "      <th>sex</th>\n",
       "      <th>bmi</th>\n",
       "      <th>children</th>\n",
       "      <th>smoker</th>\n",
       "      <th>region</th>\n",
       "      <th>charges</th>\n",
       "    </tr>\n",
       "  </thead>\n",
       "  <tbody>\n",
       "    <tr>\n",
       "      <th>0</th>\n",
       "      <td>19</td>\n",
       "      <td>female</td>\n",
       "      <td>27.900</td>\n",
       "      <td>0</td>\n",
       "      <td>yes</td>\n",
       "      <td>southwest</td>\n",
       "      <td>16884.92400</td>\n",
       "    </tr>\n",
       "    <tr>\n",
       "      <th>1</th>\n",
       "      <td>18</td>\n",
       "      <td>male</td>\n",
       "      <td>33.770</td>\n",
       "      <td>1</td>\n",
       "      <td>no</td>\n",
       "      <td>southeast</td>\n",
       "      <td>1725.55230</td>\n",
       "    </tr>\n",
       "    <tr>\n",
       "      <th>2</th>\n",
       "      <td>28</td>\n",
       "      <td>male</td>\n",
       "      <td>33.000</td>\n",
       "      <td>3</td>\n",
       "      <td>no</td>\n",
       "      <td>southeast</td>\n",
       "      <td>4449.46200</td>\n",
       "    </tr>\n",
       "    <tr>\n",
       "      <th>3</th>\n",
       "      <td>33</td>\n",
       "      <td>male</td>\n",
       "      <td>22.705</td>\n",
       "      <td>0</td>\n",
       "      <td>no</td>\n",
       "      <td>northwest</td>\n",
       "      <td>21984.47061</td>\n",
       "    </tr>\n",
       "    <tr>\n",
       "      <th>4</th>\n",
       "      <td>32</td>\n",
       "      <td>male</td>\n",
       "      <td>28.880</td>\n",
       "      <td>0</td>\n",
       "      <td>no</td>\n",
       "      <td>northwest</td>\n",
       "      <td>3866.85520</td>\n",
       "    </tr>\n",
       "    <tr>\n",
       "      <th>5</th>\n",
       "      <td>31</td>\n",
       "      <td>female</td>\n",
       "      <td>25.740</td>\n",
       "      <td>0</td>\n",
       "      <td>no</td>\n",
       "      <td>southeast</td>\n",
       "      <td>3756.62160</td>\n",
       "    </tr>\n",
       "    <tr>\n",
       "      <th>6</th>\n",
       "      <td>46</td>\n",
       "      <td>female</td>\n",
       "      <td>33.440</td>\n",
       "      <td>1</td>\n",
       "      <td>no</td>\n",
       "      <td>southeast</td>\n",
       "      <td>8240.58960</td>\n",
       "    </tr>\n",
       "    <tr>\n",
       "      <th>7</th>\n",
       "      <td>37</td>\n",
       "      <td>female</td>\n",
       "      <td>27.740</td>\n",
       "      <td>3</td>\n",
       "      <td>no</td>\n",
       "      <td>northwest</td>\n",
       "      <td>7281.50560</td>\n",
       "    </tr>\n",
       "    <tr>\n",
       "      <th>8</th>\n",
       "      <td>37</td>\n",
       "      <td>male</td>\n",
       "      <td>29.830</td>\n",
       "      <td>2</td>\n",
       "      <td>no</td>\n",
       "      <td>northeast</td>\n",
       "      <td>6406.41070</td>\n",
       "    </tr>\n",
       "    <tr>\n",
       "      <th>9</th>\n",
       "      <td>60</td>\n",
       "      <td>female</td>\n",
       "      <td>25.840</td>\n",
       "      <td>0</td>\n",
       "      <td>no</td>\n",
       "      <td>northwest</td>\n",
       "      <td>28923.13692</td>\n",
       "    </tr>\n",
       "  </tbody>\n",
       "</table>\n",
       "</div>"
      ],
      "text/plain": [
       "   age     sex     bmi  children smoker     region      charges\n",
       "0   19  female  27.900         0    yes  southwest  16884.92400\n",
       "1   18    male  33.770         1     no  southeast   1725.55230\n",
       "2   28    male  33.000         3     no  southeast   4449.46200\n",
       "3   33    male  22.705         0     no  northwest  21984.47061\n",
       "4   32    male  28.880         0     no  northwest   3866.85520\n",
       "5   31  female  25.740         0     no  southeast   3756.62160\n",
       "6   46  female  33.440         1     no  southeast   8240.58960\n",
       "7   37  female  27.740         3     no  northwest   7281.50560\n",
       "8   37    male  29.830         2     no  northeast   6406.41070\n",
       "9   60  female  25.840         0     no  northwest  28923.13692"
      ]
     },
     "execution_count": 301,
     "metadata": {},
     "output_type": "execute_result"
    }
   ],
   "source": [
    "insurance_data_frame.head(10)"
   ]
  },
  {
   "cell_type": "markdown",
   "id": "897836ea",
   "metadata": {},
   "source": [
    "### Transformação dos dados em valores númericos antes do inicio de qualquer outra tratativa"
   ]
  },
  {
   "cell_type": "code",
   "execution_count": 302,
   "id": "9b65978c",
   "metadata": {},
   "outputs": [
    {
     "data": {
      "text/html": [
       "<div>\n",
       "<style scoped>\n",
       "    .dataframe tbody tr th:only-of-type {\n",
       "        vertical-align: middle;\n",
       "    }\n",
       "\n",
       "    .dataframe tbody tr th {\n",
       "        vertical-align: top;\n",
       "    }\n",
       "\n",
       "    .dataframe thead th {\n",
       "        text-align: right;\n",
       "    }\n",
       "</style>\n",
       "<table border=\"1\" class=\"dataframe\">\n",
       "  <thead>\n",
       "    <tr style=\"text-align: right;\">\n",
       "      <th></th>\n",
       "      <th>age</th>\n",
       "      <th>bmi</th>\n",
       "      <th>children</th>\n",
       "      <th>charges</th>\n",
       "      <th>sex_female</th>\n",
       "      <th>sex_male</th>\n",
       "      <th>smoker_no</th>\n",
       "      <th>smoker_yes</th>\n",
       "      <th>region_northeast</th>\n",
       "      <th>region_northwest</th>\n",
       "      <th>region_southeast</th>\n",
       "      <th>region_southwest</th>\n",
       "    </tr>\n",
       "  </thead>\n",
       "  <tbody>\n",
       "    <tr>\n",
       "      <th>0</th>\n",
       "      <td>19</td>\n",
       "      <td>27.900</td>\n",
       "      <td>0</td>\n",
       "      <td>16884.92400</td>\n",
       "      <td>1.0</td>\n",
       "      <td>0.0</td>\n",
       "      <td>0.0</td>\n",
       "      <td>1.0</td>\n",
       "      <td>0.0</td>\n",
       "      <td>0.0</td>\n",
       "      <td>0.0</td>\n",
       "      <td>1.0</td>\n",
       "    </tr>\n",
       "    <tr>\n",
       "      <th>1</th>\n",
       "      <td>18</td>\n",
       "      <td>33.770</td>\n",
       "      <td>1</td>\n",
       "      <td>1725.55230</td>\n",
       "      <td>0.0</td>\n",
       "      <td>1.0</td>\n",
       "      <td>1.0</td>\n",
       "      <td>0.0</td>\n",
       "      <td>0.0</td>\n",
       "      <td>0.0</td>\n",
       "      <td>1.0</td>\n",
       "      <td>0.0</td>\n",
       "    </tr>\n",
       "    <tr>\n",
       "      <th>2</th>\n",
       "      <td>28</td>\n",
       "      <td>33.000</td>\n",
       "      <td>3</td>\n",
       "      <td>4449.46200</td>\n",
       "      <td>0.0</td>\n",
       "      <td>1.0</td>\n",
       "      <td>1.0</td>\n",
       "      <td>0.0</td>\n",
       "      <td>0.0</td>\n",
       "      <td>0.0</td>\n",
       "      <td>1.0</td>\n",
       "      <td>0.0</td>\n",
       "    </tr>\n",
       "    <tr>\n",
       "      <th>3</th>\n",
       "      <td>33</td>\n",
       "      <td>22.705</td>\n",
       "      <td>0</td>\n",
       "      <td>21984.47061</td>\n",
       "      <td>0.0</td>\n",
       "      <td>1.0</td>\n",
       "      <td>1.0</td>\n",
       "      <td>0.0</td>\n",
       "      <td>0.0</td>\n",
       "      <td>1.0</td>\n",
       "      <td>0.0</td>\n",
       "      <td>0.0</td>\n",
       "    </tr>\n",
       "    <tr>\n",
       "      <th>4</th>\n",
       "      <td>32</td>\n",
       "      <td>28.880</td>\n",
       "      <td>0</td>\n",
       "      <td>3866.85520</td>\n",
       "      <td>0.0</td>\n",
       "      <td>1.0</td>\n",
       "      <td>1.0</td>\n",
       "      <td>0.0</td>\n",
       "      <td>0.0</td>\n",
       "      <td>1.0</td>\n",
       "      <td>0.0</td>\n",
       "      <td>0.0</td>\n",
       "    </tr>\n",
       "  </tbody>\n",
       "</table>\n",
       "</div>"
      ],
      "text/plain": [
       "   age     bmi  children      charges  sex_female  sex_male  smoker_no  \\\n",
       "0   19  27.900         0  16884.92400         1.0       0.0        0.0   \n",
       "1   18  33.770         1   1725.55230         0.0       1.0        1.0   \n",
       "2   28  33.000         3   4449.46200         0.0       1.0        1.0   \n",
       "3   33  22.705         0  21984.47061         0.0       1.0        1.0   \n",
       "4   32  28.880         0   3866.85520         0.0       1.0        1.0   \n",
       "\n",
       "   smoker_yes  region_northeast  region_northwest  region_southeast  \\\n",
       "0         1.0               0.0               0.0               0.0   \n",
       "1         0.0               0.0               0.0               1.0   \n",
       "2         0.0               0.0               0.0               1.0   \n",
       "3         0.0               0.0               1.0               0.0   \n",
       "4         0.0               0.0               1.0               0.0   \n",
       "\n",
       "   region_southwest  \n",
       "0               1.0  \n",
       "1               0.0  \n",
       "2               0.0  \n",
       "3               0.0  \n",
       "4               0.0  "
      ]
     },
     "execution_count": 302,
     "metadata": {},
     "output_type": "execute_result"
    }
   ],
   "source": [
    "categorical_columns = ['sex', 'smoker', 'region']\n",
    "\n",
    "one_hot_encoder = OneHotEncoder(sparse_output=False)\n",
    "\n",
    "encoded_features = one_hot_encoder.fit_transform(insurance_data_frame[categorical_columns])\n",
    "encoded_features_df = pd.DataFrame(\n",
    "    encoded_features,\n",
    "    columns=one_hot_encoder.get_feature_names_out(categorical_columns)\n",
    ")\n",
    "\n",
    "insurance_data_frame = pd.concat([insurance_data_frame.drop(columns=categorical_columns), encoded_features_df], axis=1)\n",
    "insurance_data_frame.head()"
   ]
  },
  {
   "cell_type": "markdown",
   "id": "9e7d12c0",
   "metadata": {},
   "source": [
    "### Avaliação de dados outliers para análise de impacto de modelos preditivos"
   ]
  },
  {
   "cell_type": "code",
   "execution_count": 303,
   "id": "e4985a54",
   "metadata": {},
   "outputs": [
    {
     "data": {
      "image/png": "[encoded data removed]",
      "text/plain": [
       "<Figure size 640x480 with 1 Axes>"
      ]
     },
     "metadata": {},
     "output_type": "display_data"
    }
   ],
   "source": [
    "plt.boxplot(insurance_data_frame['age'])\n",
    "plt.title('Age Distribution')\n",
    "plt.ylabel('Age')\n",
    "plt.show()"
   ]
  },
  {
   "cell_type": "code",
   "execution_count": 304,
   "id": "2364f694",
   "metadata": {},
   "outputs": [
    {
     "data": {
      "image/png": "[encoded data removed]",
      "text/plain": [
       "<Figure size 640x480 with 1 Axes>"
      ]
     },
     "metadata": {},
     "output_type": "display_data"
    }
   ],
   "source": [
    "plt.boxplot(insurance_data_frame['bmi'])\n",
    "plt.title('BMI')\n",
    "plt.ylabel('BMI')\n",
    "plt.show()"
   ]
  },
  {
   "cell_type": "code",
   "execution_count": 305,
   "id": "4c82939e",
   "metadata": {},
   "outputs": [
    {
     "name": "stdout",
     "output_type": "stream",
     "text": [
      "15.96\n",
      "53.13\n"
     ]
    }
   ],
   "source": [
    "print(insurance_data_frame['bmi'].min())\n",
    "print(insurance_data_frame['bmi'].max())"
   ]
  },
  {
   "cell_type": "code",
   "execution_count": 306,
   "id": "b4fabe83",
   "metadata": {},
   "outputs": [
    {
     "data": {
      "image/png": "[encoded data removed]",
      "text/plain": [
       "<Figure size 640x480 with 1 Axes>"
      ]
     },
     "metadata": {},
     "output_type": "display_data"
    }
   ],
   "source": [
    "plt.boxplot(insurance_data_frame['charges'])\n",
    "plt.title('Charges')\n",
    "plt.ylabel('Charges')\n",
    "plt.show()"
   ]
  },
  {
   "cell_type": "code",
   "execution_count": 307,
   "id": "bb5b807b",
   "metadata": {},
   "outputs": [
    {
     "name": "stdout",
     "output_type": "stream",
     "text": [
      "1121.8739\n",
      "63770.42801\n"
     ]
    }
   ],
   "source": [
    "print(insurance_data_frame['charges'].min())\n",
    "print(insurance_data_frame['charges'].max())"
   ]
  },
  {
   "cell_type": "markdown",
   "id": "d4a5a53a",
   "metadata": {},
   "source": [
    "### Analise de distribuição com o histograma"
   ]
  },
  {
   "cell_type": "code",
   "execution_count": 308,
   "id": "2d522be8",
   "metadata": {},
   "outputs": [
    {
     "data": {
      "text/plain": [
       "array([[<Axes: title={'center': 'age'}>, <Axes: title={'center': 'bmi'}>,\n",
       "        <Axes: title={'center': 'children'}>],\n",
       "       [<Axes: title={'center': 'charges'}>,\n",
       "        <Axes: title={'center': 'sex_female'}>,\n",
       "        <Axes: title={'center': 'sex_male'}>],\n",
       "       [<Axes: title={'center': 'smoker_no'}>,\n",
       "        <Axes: title={'center': 'smoker_yes'}>,\n",
       "        <Axes: title={'center': 'region_northeast'}>],\n",
       "       [<Axes: title={'center': 'region_northwest'}>,\n",
       "        <Axes: title={'center': 'region_southeast'}>,\n",
       "        <Axes: title={'center': 'region_southwest'}>]], dtype=object)"
      ]
     },
     "execution_count": 308,
     "metadata": {},
     "output_type": "execute_result"
    },
    {
     "data": {
      "image/png": "[encoded data removed]",
      "text/plain": [
       "<Figure size 2000x1500 with 12 Axes>"
      ]
     },
     "metadata": {},
     "output_type": "display_data"
    }
   ],
   "source": [
    "insurance_data_frame.hist(bins=50, figsize=(20, 15))"
   ]
  },
  {
   "cell_type": "markdown",
   "id": "1599cb47",
   "metadata": {},
   "source": [
    "### Separação dos dados em treino e teste antes da normalização e padronização dos dados"
   ]
  },
  {
   "cell_type": "code",
   "execution_count": 309,
   "id": "2aa488cb",
   "metadata": {},
   "outputs": [],
   "source": [
    "x = insurance_data_frame.drop(columns=['charges'])\n",
    "y = insurance_data_frame['charges']\n",
    "x_train, x_test, y_train, y_test = train_test_split(x, y, test_size=0.2, random_state=42)"
   ]
  },
  {
   "cell_type": "markdown",
   "id": "478d2e92",
   "metadata": {},
   "source": [
    "### Aplicando o MinMaxScaler"
   ]
  },
  {
   "cell_type": "code",
   "execution_count": 310,
   "id": "39363c88",
   "metadata": {},
   "outputs": [
    {
     "data": {
      "text/plain": [
       "array([[0.60869565, 0.10734463, 0.4       , ..., 1.        , 0.        ,\n",
       "        0.        ],\n",
       "       [0.63043478, 0.22491256, 0.        , ..., 0.        , 0.        ,\n",
       "        0.        ],\n",
       "       [0.73913043, 0.23944041, 0.        , ..., 0.        , 1.        ,\n",
       "        0.        ],\n",
       "       ...,\n",
       "       [0.86956522, 0.24791499, 0.        , ..., 0.        , 0.        ,\n",
       "        0.        ],\n",
       "       [0.41304348, 0.85122411, 0.4       , ..., 0.        , 0.        ,\n",
       "        1.        ],\n",
       "       [0.80434783, 0.37503363, 0.        , ..., 0.        , 0.        ,\n",
       "        1.        ]], shape=(1070, 11))"
      ]
     },
     "execution_count": 310,
     "metadata": {},
     "output_type": "execute_result"
    }
   ],
   "source": [
    "minMaxScaler = MinMaxScaler()\n",
    "\n",
    "minMaxScaler.fit(x_train)\n",
    "\n",
    "x_train_min_max_scaled = minMaxScaler.transform(x_train)\n",
    "x_test_min_max_scaled= minMaxScaler.transform(x_test)\n",
    "\n",
    "x_train_min_max_scaled"
   ]
  },
  {
   "cell_type": "markdown",
   "id": "ecbba924",
   "metadata": {},
   "source": [
    "### Aplicando o StandardScaler"
   ]
  },
  {
   "cell_type": "code",
   "execution_count": 311,
   "id": "06993382",
   "metadata": {},
   "outputs": [
    {
     "data": {
      "text/plain": [
       "array([[ 0.47222651, -1.75652513,  0.73433626, ...,  1.78316783,\n",
       "        -0.59966106, -0.5723141 ],\n",
       "       [ 0.54331294, -1.03308239, -0.91119211, ..., -0.56079971,\n",
       "        -0.59966106, -0.5723141 ],\n",
       "       [ 0.8987451 , -0.94368672, -0.91119211, ..., -0.56079971,\n",
       "         1.66760869, -0.5723141 ],\n",
       "       ...,\n",
       "       [ 1.3252637 , -0.89153925, -0.91119211, ..., -0.56079971,\n",
       "        -0.59966106, -0.5723141 ],\n",
       "       [-0.16755139,  2.82086429,  0.73433626, ..., -0.56079971,\n",
       "        -0.59966106,  1.74729228],\n",
       "       [ 1.1120044 , -0.10932713, -0.91119211, ..., -0.56079971,\n",
       "        -0.59966106,  1.74729228]], shape=(1070, 11))"
      ]
     },
     "execution_count": 311,
     "metadata": {},
     "output_type": "execute_result"
    }
   ],
   "source": [
    "standardScaler = StandardScaler()\n",
    "\n",
    "standardScaler.fit(x_train)\n",
    "\n",
    "x_train_standard_scaled = standardScaler.transform(x_train)\n",
    "x_test_standard_scaled  = standardScaler.transform(x_test)\n",
    "\n",
    "x_train_standard_scaled"
   ]
  },
  {
   "cell_type": "markdown",
   "id": "9faaa53b",
   "metadata": {},
   "source": [
    "### Aplicando o RobustScaler"
   ]
  },
  {
   "cell_type": "code",
   "execution_count": 312,
   "id": "a8755aae",
   "metadata": {},
   "outputs": [
    {
     "data": {
      "text/plain": [
       "array([[ 0.27083333, -1.23744912,  0.5       , ...,  1.        ,\n",
       "         0.        ,  0.        ],\n",
       "       [ 0.3125    , -0.71038746, -0.5       , ...,  0.        ,\n",
       "         0.        ,  0.        ],\n",
       "       [ 0.52083333, -0.64525856, -0.5       , ...,  0.        ,\n",
       "         1.        ,  0.        ],\n",
       "       ...,\n",
       "       [ 0.77083333, -0.6072667 , -0.5       , ...,  0.        ,\n",
       "         0.        ,  0.        ],\n",
       "       [-0.10416667,  2.09739183,  0.5       , ...,  0.        ,\n",
       "         0.        ,  1.        ],\n",
       "       [ 0.64583333, -0.03738881, -0.5       , ...,  0.        ,\n",
       "         0.        ,  1.        ]], shape=(1070, 11))"
      ]
     },
     "execution_count": 312,
     "metadata": {},
     "output_type": "execute_result"
    }
   ],
   "source": [
    "robustScaler = RobustScaler()\n",
    "\n",
    "robustScaler.fit(x_train)\n",
    "\n",
    "x_train_robust_scaled = robustScaler.transform(x_train)\n",
    "x_test_robust_scaled = robustScaler.transform(x_test)\n",
    "x_train_robust_scaled"
   ]
  },
  {
   "cell_type": "markdown",
   "id": "b5d58a1a",
   "metadata": {},
   "source": [
    "# Avaliação do modelo"
   ]
  },
  {
   "cell_type": "code",
   "execution_count": 313,
   "id": "d89e93e4",
   "metadata": {},
   "outputs": [],
   "source": [
    "def calculate_mape(labels, predictions):\n",
    "    errors = np.abs(labels - predictions)\n",
    "    relative_errors = errors / np.abs(labels)\n",
    "    mape = np.mean(relative_errors) * 100\n",
    "    return mape"
   ]
  },
  {
   "cell_type": "code",
   "execution_count": 314,
   "id": "513bfaef",
   "metadata": {},
   "outputs": [],
   "source": [
    "def train_and_evaluate(scaler_name, x_train_scaled, x_test_scaled, y_train, y_test):\n",
    "    print(f\"Resultados para {scaler_name}:\")\n",
    "    \n",
    "    # Criando o modelo de regressão linear\n",
    "    linear_model = LinearRegression()\n",
    "    linear_model.fit(x_train_scaled, y_train)\n",
    "    \n",
    "    # Previsões\n",
    "    y_train_pred = linear_model.predict(x_train_scaled)\n",
    "    y_test_pred = linear_model.predict(x_test_scaled)\n",
    "\n",
    "    test_r2_score = r2_score(y_test, y_test_pred)\n",
    "    train_r2_score = r2_score(y_train, y_train_pred)\n",
    "\n",
    "    test_mean_squared_error = mean_squared_error(y_test, y_test_pred)\n",
    "    train_mean_squared_error = mean_squared_error(y_train, y_train_pred)\n",
    "\n",
    "    test_root_mean_squared_error = np.sqrt(test_mean_squared_error)\n",
    "    train_root_mean_squared_error = np.sqrt(train_mean_squared_error)\n",
    "\n",
    "    train_mape_result = calculate_mape(y_train, y_train_pred)\n",
    "    test_mape_result = calculate_mape(y_test, y_test_pred)\n",
    "    \n",
    "    # Avaliação\n",
    "    print(\"Treino:\")\n",
    "    print(f\"  R²: {train_r2_score:.4f}\")\n",
    "    print(f\"  MSE: {train_mean_squared_error:.4f}\")\n",
    "    print(f\"  RMSE: {train_root_mean_squared_error:.4f}\")\n",
    "    print(f\"  MAPE: {train_mape_result:.4f}%\")\n",
    "    \n",
    "    print(\"Teste:\")\n",
    "    print(f\"  R²: {test_r2_score:.4f}\")\n",
    "    print(f\"  MSE: {test_mean_squared_error:.4f}\")\n",
    "    print(f\"  RMSE: {test_root_mean_squared_error:.4f}\")\n",
    "    print(f\"  MAPE: {test_mape_result:.4f}\")\n",
    "    "
   ]
  },
  {
   "cell_type": "markdown",
   "id": "35c9c320",
   "metadata": {},
   "source": [
    "## Treino e resultado para avaliação da Regresão Linear Multipla"
   ]
  },
  {
   "cell_type": "markdown",
   "id": "c4b32923",
   "metadata": {},
   "source": [
    "## Avaliação da Regressão Linear Multipla sem tratativa"
   ]
  },
  {
   "cell_type": "code",
   "execution_count": 315,
   "id": "33a3e629",
   "metadata": {},
   "outputs": [
    {
     "name": "stdout",
     "output_type": "stream",
     "text": [
      "Resultados para Sem tratativa:\n",
      "Treino:\n",
      "  R²: 0.7417\n",
      "  MSE: 37277681.7020\n",
      "  RMSE: 6105.5452\n",
      "  MAPE: 42.2027%\n",
      "Teste:\n",
      "  R²: 0.7836\n",
      "  MSE: 33596915.8514\n",
      "  RMSE: 5796.2847\n",
      "  MAPE: 46.8883\n"
     ]
    }
   ],
   "source": [
    "train_and_evaluate(\"Sem tratativa\", x_train, x_test, y_train, y_test)"
   ]
  },
  {
   "cell_type": "markdown",
   "id": "3a8b0dd0",
   "metadata": {},
   "source": [
    "## Avaliação da Regressão Linear Multipla após aplicar o Standard Scaler"
   ]
  },
  {
   "cell_type": "code",
   "execution_count": 316,
   "id": "3e2eb310",
   "metadata": {},
   "outputs": [
    {
     "name": "stdout",
     "output_type": "stream",
     "text": [
      "Resultados para StandardScaler:\n",
      "Treino:\n",
      "  R²: 0.7417\n",
      "  MSE: 37277681.7020\n",
      "  RMSE: 6105.5452\n",
      "  MAPE: 42.2027%\n",
      "Teste:\n",
      "  R²: 0.7836\n",
      "  MSE: 33596915.8514\n",
      "  RMSE: 5796.2847\n",
      "  MAPE: 46.8883\n"
     ]
    }
   ],
   "source": [
    "standard_scaler = StandardScaler()\n",
    "standard_scaler.fit(x_train)\n",
    "\n",
    "x_train_standard_scaled = standard_scaler.transform(x_train)\n",
    "x_test_standard_scaled = standard_scaler.transform(x_test)\n",
    "train_and_evaluate(\"StandardScaler\", x_train_standard_scaled, x_test_standard_scaled, y_train, y_test)"
   ]
  },
  {
   "cell_type": "markdown",
   "id": "832f2646",
   "metadata": {},
   "source": [
    "## Avaliação da Regressão Linear Multipla após aplicar o MinMaxScaler"
   ]
  },
  {
   "cell_type": "code",
   "execution_count": 317,
   "id": "23f18541",
   "metadata": {},
   "outputs": [
    {
     "name": "stdout",
     "output_type": "stream",
     "text": [
      "Resultados para MinMaxScaler:\n",
      "Treino:\n",
      "  R²: 0.7417\n",
      "  MSE: 37277681.7020\n",
      "  RMSE: 6105.5452\n",
      "  MAPE: 42.2027%\n",
      "Teste:\n",
      "  R²: 0.7836\n",
      "  MSE: 33596915.8514\n",
      "  RMSE: 5796.2847\n",
      "  MAPE: 46.8883\n"
     ]
    }
   ],
   "source": [
    "train_and_evaluate(\"MinMaxScaler\", x_train_min_max_scaled, x_test_min_max_scaled, y_train, y_test)"
   ]
  },
  {
   "cell_type": "markdown",
   "id": "54a19e24",
   "metadata": {},
   "source": [
    "## Avaliação da Regressão Linear Multipla após aplicar o StandardScaler"
   ]
  },
  {
   "cell_type": "code",
   "execution_count": 318,
   "id": "6fff1a06",
   "metadata": {},
   "outputs": [
    {
     "name": "stdout",
     "output_type": "stream",
     "text": [
      "Resultados para StandardScaler:\n",
      "Treino:\n",
      "  R²: 0.7417\n",
      "  MSE: 37277681.7020\n",
      "  RMSE: 6105.5452\n",
      "  MAPE: 42.2027%\n",
      "Teste:\n",
      "  R²: 0.7836\n",
      "  MSE: 33596915.8514\n",
      "  RMSE: 5796.2847\n",
      "  MAPE: 46.8883\n"
     ]
    }
   ],
   "source": [
    "train_and_evaluate(\"StandardScaler\", x_train_standard_scaled, x_test_standard_scaled, y_train, y_test)"
   ]
  },
  {
   "cell_type": "markdown",
   "id": "e135a3af",
   "metadata": {},
   "source": [
    "### Aplicando RobustScaler"
   ]
  },
  {
   "cell_type": "code",
   "execution_count": 319,
   "id": "d6bcd6ff",
   "metadata": {},
   "outputs": [
    {
     "name": "stdout",
     "output_type": "stream",
     "text": [
      "Resultados para RobustScaler:\n",
      "Treino:\n",
      "  R²: 0.7417\n",
      "  MSE: 37277681.7020\n",
      "  RMSE: 6105.5452\n",
      "  MAPE: 42.2027%\n",
      "Teste:\n",
      "  R²: 0.7836\n",
      "  MSE: 33596915.8514\n",
      "  RMSE: 5796.2847\n",
      "  MAPE: 46.8883\n"
     ]
    }
   ],
   "source": [
    "train_and_evaluate(\"RobustScaler\", x_train_robust_scaled, x_test_robust_scaled, y_train, y_test)"
   ]
  },
  {
   "cell_type": "markdown",
   "id": "659d36ef",
   "metadata": {},
   "source": [
    "## Anotações da análise\n",
    "\n",
    "**Por que os resultados são idênticos?**\n",
    "- O LinearRegression do scikit-learn não é sensível à escala das variáveis se não há regularização (como Lasso ou Ridge).\n",
    "- O LinearRegression() do scikit-learn resolve o sistema de equações diretamente via álgebra linear, então escalar os dados só altera os coeficientes, mas não o ajuste do modelo nem as previsões.\n",
    "- Portanto, o resultado não muda com o escalonamento, desde que não haja termos de penalidade (como L1 ou L2).\n",
    "\n",
    "**O que os seus resultados mostram sobre o modelo?**\n",
    "- R² > 0.74 indica que o modelo consegue explicar cerca de 74% a 78% da variância dos dados, o que é razoável considerando apenas essa métrica.\n",
    "- MSE e RMSE altos (~5796) indicam que há valores de charges bastante dispersos, o que pode estar ligado à presença de outliers (provável, dado o alto MAPE).\n",
    "- MAPE elevado (42% a 46%) sugere que o modelo tem dificuldade com previsões absolutas em muitos casos, especialmente em valores menores (já que MAPE penaliza mais erros percentuais em valores baixos).\n",
    "\n",
    "**Conclusões**\n",
    "- O escalonamento não afeta a performance do LinearRegression sem regularização, pois o modelo é invariante à escala dos dados.\n",
    "- O modelo mostra boa explicação de variância, mas tem erros absolutos relevantes, sugerindo que:\n",
    "- Os dados podem ter outliers (verifique charges).\n",
    "- Talvez o modelo esteja subajustado ou precise de transformações adicionais.\n",
    "- Possíveis tentativas para melhorar o modelo:\n",
    "    - Log-transformar charges se a distribuição for assimétrica.\n",
    "    - Experimentar modelos mais robustos, como árvores (RandomForest, GradientBoosting).\n",
    "    - Aplicar regularização (Ridge, Lasso) e aí sim comparar o impacto dos scalers.\n",
    "\n",
    "**Próximos Passos:**\n",
    "- Explorar Modelos Mais Complexos: Testar modelos não lineares, como árvores de decisão, random forest ou gradient boosting.\n",
    "- Analisar Outliers: Verificar se outliers estão influenciando negativamente o modelo.\n",
    "- Feature Engineering: Criar novas variáveis ou transformar as existentes para capturar melhor as relações nos dados.\n",
    "- Avaliar Interações: Verificar se há interações entre variáveis que podem melhorar o desempenho do modelo."
   ]
  },
  {
   "cell_type": "markdown",
   "id": "c588f1df",
   "metadata": {},
   "source": [
    "## Visualizando a distribuição de 'charges'"
   ]
  },
  {
   "cell_type": "code",
   "execution_count": 320,
   "id": "9f38c982",
   "metadata": {},
   "outputs": [
    {
     "data": {
      "image/png": "[encoded data removed]",
      "text/plain": [
       "<Figure size 1000x500 with 1 Axes>"
      ]
     },
     "metadata": {},
     "output_type": "display_data"
    }
   ],
   "source": [
    "plt.figure(figsize=(10, 5))\n",
    "sns.histplot(insurance_data_frame['charges'], kde=True, bins=40)\n",
    "plt.title('Distribuição da variável target: charges')\n",
    "plt.xlabel('charges')\n",
    "plt.ylabel('Frequência')\n",
    "plt.show()"
   ]
  },
  {
   "cell_type": "markdown",
   "id": "9e7203ab",
   "metadata": {},
   "source": [
    "# Aplicação da transformação logarítmica para validar a melhora do modelo LinearRegression"
   ]
  },
  {
   "cell_type": "code",
   "execution_count": 321,
   "id": "f4fa15dd",
   "metadata": {},
   "outputs": [
    {
     "data": {
      "image/png": "[encoded data removed]",
      "text/plain": [
       "<Figure size 1000x500 with 1 Axes>"
      ]
     },
     "metadata": {},
     "output_type": "display_data"
    }
   ],
   "source": [
    "insurance_data_frame['log_charges'] = np.log(insurance_data_frame['charges'])\n",
    "\n",
    "plt.figure(figsize=(10, 5))\n",
    "sns.histplot(insurance_data_frame['log_charges'], kde=True, bins=40)\n",
    "plt.title('Distribuição após log-transformação de charges')\n",
    "plt.xlabel('log(charges)')\n",
    "plt.ylabel('Frequência')\n",
    "plt.show()"
   ]
  },
  {
   "cell_type": "markdown",
   "id": "52da55eb",
   "metadata": {},
   "source": [
    "## Treinando o modelo com 'log_charges' como target"
   ]
  },
  {
   "cell_type": "code",
   "execution_count": 322,
   "id": "75e983a0",
   "metadata": {},
   "outputs": [
    {
     "name": "stdout",
     "output_type": "stream",
     "text": [
      "Resultados para transformação log para charges:\n",
      "Treino:\n",
      "  R²: 0.7572\n",
      "  MSE: 0.2016\n",
      "  RMSE: 0.4490\n",
      "  MAPE: 3.0773%\n",
      "Teste:\n",
      "  R²: 0.8047\n",
      "  MSE: 0.1756\n",
      "  RMSE: 0.4190\n",
      "  MAPE: 2.9975\n"
     ]
    }
   ],
   "source": [
    "x = insurance_data_frame.drop(columns=['charges', 'log_charges'])\n",
    "y = insurance_data_frame['log_charges']\n",
    "\n",
    "x_train, x_test, y_train, y_test = train_test_split(x, y, test_size=0.2, random_state=42)\n",
    "train_and_evaluate(\"transformação log para charges\", x_train, x_test, y_train, y_test)"
   ]
  },
  {
   "cell_type": "markdown",
   "id": "951961d6",
   "metadata": {},
   "source": [
    "# Explorando o modelo **Árvore de Decisão**"
   ]
  },
  {
   "cell_type": "code",
   "execution_count": 323,
   "id": "1af939bd",
   "metadata": {},
   "outputs": [],
   "source": [
    "from sklearn.tree import DecisionTreeRegressor\n",
    "from sklearn.model_selection import train_test_split\n",
    "from sklearn.metrics import r2_score, mean_squared_error, mean_absolute_percentage_error\n",
    "import numpy as np\n",
    "import pandas as pd\n",
    "import matplotlib.pyplot as plt\n",
    "import seaborn as sns"
   ]
  },
  {
   "cell_type": "markdown",
   "id": "8cd124cc",
   "metadata": {},
   "source": [
    "## Análise dos dados do arquivo insurance"
   ]
  },
  {
   "cell_type": "code",
   "execution_count": 324,
   "id": "6b8d0a85",
   "metadata": {},
   "outputs": [
    {
     "name": "stdout",
     "output_type": "stream",
     "text": [
      "<class 'pandas.core.frame.DataFrame'>\n",
      "RangeIndex: 1338 entries, 0 to 1337\n",
      "Data columns (total 7 columns):\n",
      " #   Column    Non-Null Count  Dtype  \n",
      "---  ------    --------------  -----  \n",
      " 0   age       1338 non-null   int64  \n",
      " 1   sex       1338 non-null   object \n",
      " 2   bmi       1338 non-null   float64\n",
      " 3   children  1338 non-null   int64  \n",
      " 4   smoker    1338 non-null   object \n",
      " 5   region    1338 non-null   object \n",
      " 6   charges   1338 non-null   float64\n",
      "dtypes: float64(2), int64(2), object(3)\n",
      "memory usage: 73.3+ KB\n"
     ]
    }
   ],
   "source": [
    "insurance_data_frame = pd.read_csv('insurance.csv')\n",
    "insurance_data_frame.info()"
   ]
  },
  {
   "cell_type": "code",
   "execution_count": 325,
   "id": "0e077395",
   "metadata": {},
   "outputs": [
    {
     "data": {
      "text/html": [
       "<div>\n",
       "<style scoped>\n",
       "    .dataframe tbody tr th:only-of-type {\n",
       "        vertical-align: middle;\n",
       "    }\n",
       "\n",
       "    .dataframe tbody tr th {\n",
       "        vertical-align: top;\n",
       "    }\n",
       "\n",
       "    .dataframe thead th {\n",
       "        text-align: right;\n",
       "    }\n",
       "</style>\n",
       "<table border=\"1\" class=\"dataframe\">\n",
       "  <thead>\n",
       "    <tr style=\"text-align: right;\">\n",
       "      <th></th>\n",
       "      <th>age</th>\n",
       "      <th>sex</th>\n",
       "      <th>bmi</th>\n",
       "      <th>children</th>\n",
       "      <th>smoker</th>\n",
       "      <th>region</th>\n",
       "      <th>charges</th>\n",
       "    </tr>\n",
       "  </thead>\n",
       "  <tbody>\n",
       "    <tr>\n",
       "      <th>0</th>\n",
       "      <td>19</td>\n",
       "      <td>female</td>\n",
       "      <td>27.900</td>\n",
       "      <td>0</td>\n",
       "      <td>yes</td>\n",
       "      <td>southwest</td>\n",
       "      <td>16884.92400</td>\n",
       "    </tr>\n",
       "    <tr>\n",
       "      <th>1</th>\n",
       "      <td>18</td>\n",
       "      <td>male</td>\n",
       "      <td>33.770</td>\n",
       "      <td>1</td>\n",
       "      <td>no</td>\n",
       "      <td>southeast</td>\n",
       "      <td>1725.55230</td>\n",
       "    </tr>\n",
       "    <tr>\n",
       "      <th>2</th>\n",
       "      <td>28</td>\n",
       "      <td>male</td>\n",
       "      <td>33.000</td>\n",
       "      <td>3</td>\n",
       "      <td>no</td>\n",
       "      <td>southeast</td>\n",
       "      <td>4449.46200</td>\n",
       "    </tr>\n",
       "    <tr>\n",
       "      <th>3</th>\n",
       "      <td>33</td>\n",
       "      <td>male</td>\n",
       "      <td>22.705</td>\n",
       "      <td>0</td>\n",
       "      <td>no</td>\n",
       "      <td>northwest</td>\n",
       "      <td>21984.47061</td>\n",
       "    </tr>\n",
       "    <tr>\n",
       "      <th>4</th>\n",
       "      <td>32</td>\n",
       "      <td>male</td>\n",
       "      <td>28.880</td>\n",
       "      <td>0</td>\n",
       "      <td>no</td>\n",
       "      <td>northwest</td>\n",
       "      <td>3866.85520</td>\n",
       "    </tr>\n",
       "    <tr>\n",
       "      <th>5</th>\n",
       "      <td>31</td>\n",
       "      <td>female</td>\n",
       "      <td>25.740</td>\n",
       "      <td>0</td>\n",
       "      <td>no</td>\n",
       "      <td>southeast</td>\n",
       "      <td>3756.62160</td>\n",
       "    </tr>\n",
       "    <tr>\n",
       "      <th>6</th>\n",
       "      <td>46</td>\n",
       "      <td>female</td>\n",
       "      <td>33.440</td>\n",
       "      <td>1</td>\n",
       "      <td>no</td>\n",
       "      <td>southeast</td>\n",
       "      <td>8240.58960</td>\n",
       "    </tr>\n",
       "    <tr>\n",
       "      <th>7</th>\n",
       "      <td>37</td>\n",
       "      <td>female</td>\n",
       "      <td>27.740</td>\n",
       "      <td>3</td>\n",
       "      <td>no</td>\n",
       "      <td>northwest</td>\n",
       "      <td>7281.50560</td>\n",
       "    </tr>\n",
       "    <tr>\n",
       "      <th>8</th>\n",
       "      <td>37</td>\n",
       "      <td>male</td>\n",
       "      <td>29.830</td>\n",
       "      <td>2</td>\n",
       "      <td>no</td>\n",
       "      <td>northeast</td>\n",
       "      <td>6406.41070</td>\n",
       "    </tr>\n",
       "    <tr>\n",
       "      <th>9</th>\n",
       "      <td>60</td>\n",
       "      <td>female</td>\n",
       "      <td>25.840</td>\n",
       "      <td>0</td>\n",
       "      <td>no</td>\n",
       "      <td>northwest</td>\n",
       "      <td>28923.13692</td>\n",
       "    </tr>\n",
       "  </tbody>\n",
       "</table>\n",
       "</div>"
      ],
      "text/plain": [
       "   age     sex     bmi  children smoker     region      charges\n",
       "0   19  female  27.900         0    yes  southwest  16884.92400\n",
       "1   18    male  33.770         1     no  southeast   1725.55230\n",
       "2   28    male  33.000         3     no  southeast   4449.46200\n",
       "3   33    male  22.705         0     no  northwest  21984.47061\n",
       "4   32    male  28.880         0     no  northwest   3866.85520\n",
       "5   31  female  25.740         0     no  southeast   3756.62160\n",
       "6   46  female  33.440         1     no  southeast   8240.58960\n",
       "7   37  female  27.740         3     no  northwest   7281.50560\n",
       "8   37    male  29.830         2     no  northeast   6406.41070\n",
       "9   60  female  25.840         0     no  northwest  28923.13692"
      ]
     },
     "execution_count": 325,
     "metadata": {},
     "output_type": "execute_result"
    }
   ],
   "source": [
    "insurance_data_frame.head(10)"
   ]
  },
  {
   "cell_type": "markdown",
   "id": "cd054ace",
   "metadata": {},
   "source": [
    "## Pré-processamento do dataset usando one-hot encoder"
   ]
  },
  {
   "cell_type": "code",
   "execution_count": 326,
   "id": "9e6f5409",
   "metadata": {},
   "outputs": [
    {
     "data": {
      "text/html": [
       "<div>\n",
       "<style scoped>\n",
       "    .dataframe tbody tr th:only-of-type {\n",
       "        vertical-align: middle;\n",
       "    }\n",
       "\n",
       "    .dataframe tbody tr th {\n",
       "        vertical-align: top;\n",
       "    }\n",
       "\n",
       "    .dataframe thead th {\n",
       "        text-align: right;\n",
       "    }\n",
       "</style>\n",
       "<table border=\"1\" class=\"dataframe\">\n",
       "  <thead>\n",
       "    <tr style=\"text-align: right;\">\n",
       "      <th></th>\n",
       "      <th>age</th>\n",
       "      <th>bmi</th>\n",
       "      <th>children</th>\n",
       "      <th>charges</th>\n",
       "      <th>sex_female</th>\n",
       "      <th>sex_male</th>\n",
       "      <th>smoker_no</th>\n",
       "      <th>smoker_yes</th>\n",
       "      <th>region_northeast</th>\n",
       "      <th>region_northwest</th>\n",
       "      <th>region_southeast</th>\n",
       "      <th>region_southwest</th>\n",
       "    </tr>\n",
       "  </thead>\n",
       "  <tbody>\n",
       "    <tr>\n",
       "      <th>0</th>\n",
       "      <td>19</td>\n",
       "      <td>27.900</td>\n",
       "      <td>0</td>\n",
       "      <td>16884.92400</td>\n",
       "      <td>1.0</td>\n",
       "      <td>0.0</td>\n",
       "      <td>0.0</td>\n",
       "      <td>1.0</td>\n",
       "      <td>0.0</td>\n",
       "      <td>0.0</td>\n",
       "      <td>0.0</td>\n",
       "      <td>1.0</td>\n",
       "    </tr>\n",
       "    <tr>\n",
       "      <th>1</th>\n",
       "      <td>18</td>\n",
       "      <td>33.770</td>\n",
       "      <td>1</td>\n",
       "      <td>1725.55230</td>\n",
       "      <td>0.0</td>\n",
       "      <td>1.0</td>\n",
       "      <td>1.0</td>\n",
       "      <td>0.0</td>\n",
       "      <td>0.0</td>\n",
       "      <td>0.0</td>\n",
       "      <td>1.0</td>\n",
       "      <td>0.0</td>\n",
       "    </tr>\n",
       "    <tr>\n",
       "      <th>2</th>\n",
       "      <td>28</td>\n",
       "      <td>33.000</td>\n",
       "      <td>3</td>\n",
       "      <td>4449.46200</td>\n",
       "      <td>0.0</td>\n",
       "      <td>1.0</td>\n",
       "      <td>1.0</td>\n",
       "      <td>0.0</td>\n",
       "      <td>0.0</td>\n",
       "      <td>0.0</td>\n",
       "      <td>1.0</td>\n",
       "      <td>0.0</td>\n",
       "    </tr>\n",
       "    <tr>\n",
       "      <th>3</th>\n",
       "      <td>33</td>\n",
       "      <td>22.705</td>\n",
       "      <td>0</td>\n",
       "      <td>21984.47061</td>\n",
       "      <td>0.0</td>\n",
       "      <td>1.0</td>\n",
       "      <td>1.0</td>\n",
       "      <td>0.0</td>\n",
       "      <td>0.0</td>\n",
       "      <td>1.0</td>\n",
       "      <td>0.0</td>\n",
       "      <td>0.0</td>\n",
       "    </tr>\n",
       "    <tr>\n",
       "      <th>4</th>\n",
       "      <td>32</td>\n",
       "      <td>28.880</td>\n",
       "      <td>0</td>\n",
       "      <td>3866.85520</td>\n",
       "      <td>0.0</td>\n",
       "      <td>1.0</td>\n",
       "      <td>1.0</td>\n",
       "      <td>0.0</td>\n",
       "      <td>0.0</td>\n",
       "      <td>1.0</td>\n",
       "      <td>0.0</td>\n",
       "      <td>0.0</td>\n",
       "    </tr>\n",
       "  </tbody>\n",
       "</table>\n",
       "</div>"
      ],
      "text/plain": [
       "   age     bmi  children      charges  sex_female  sex_male  smoker_no  \\\n",
       "0   19  27.900         0  16884.92400         1.0       0.0        0.0   \n",
       "1   18  33.770         1   1725.55230         0.0       1.0        1.0   \n",
       "2   28  33.000         3   4449.46200         0.0       1.0        1.0   \n",
       "3   33  22.705         0  21984.47061         0.0       1.0        1.0   \n",
       "4   32  28.880         0   3866.85520         0.0       1.0        1.0   \n",
       "\n",
       "   smoker_yes  region_northeast  region_northwest  region_southeast  \\\n",
       "0         1.0               0.0               0.0               0.0   \n",
       "1         0.0               0.0               0.0               1.0   \n",
       "2         0.0               0.0               0.0               1.0   \n",
       "3         0.0               0.0               1.0               0.0   \n",
       "4         0.0               0.0               1.0               0.0   \n",
       "\n",
       "   region_southwest  \n",
       "0               1.0  \n",
       "1               0.0  \n",
       "2               0.0  \n",
       "3               0.0  \n",
       "4               0.0  "
      ]
     },
     "execution_count": 326,
     "metadata": {},
     "output_type": "execute_result"
    }
   ],
   "source": [
    "categorical_columns = ['sex', 'smoker', 'region']\n",
    "\n",
    "one_hot_encoder = OneHotEncoder(sparse_output=False)  # drop='first' para evitar multicolinearidade\n",
    "\n",
    "encoded_features = one_hot_encoder.fit_transform(insurance_data_frame[categorical_columns])\n",
    "encoded_features_df = pd.DataFrame(\n",
    "    encoded_features,\n",
    "    columns=one_hot_encoder.get_feature_names_out(categorical_columns)\n",
    ")\n",
    "\n",
    "insurance_data_frame = pd.concat([insurance_data_frame.drop(columns=categorical_columns), encoded_features_df], axis=1)\n",
    "insurance_data_frame.head()"
   ]
  },
  {
   "cell_type": "code",
   "execution_count": 327,
   "id": "269782f5",
   "metadata": {},
   "outputs": [
    {
     "data": {
      "text/html": [
       "<div>\n",
       "<style scoped>\n",
       "    .dataframe tbody tr th:only-of-type {\n",
       "        vertical-align: middle;\n",
       "    }\n",
       "\n",
       "    .dataframe tbody tr th {\n",
       "        vertical-align: top;\n",
       "    }\n",
       "\n",
       "    .dataframe thead th {\n",
       "        text-align: right;\n",
       "    }\n",
       "</style>\n",
       "<table border=\"1\" class=\"dataframe\">\n",
       "  <thead>\n",
       "    <tr style=\"text-align: right;\">\n",
       "      <th></th>\n",
       "      <th>age</th>\n",
       "      <th>bmi</th>\n",
       "      <th>children</th>\n",
       "      <th>charges</th>\n",
       "      <th>sex_female</th>\n",
       "      <th>sex_male</th>\n",
       "      <th>smoker_no</th>\n",
       "      <th>smoker_yes</th>\n",
       "      <th>region_northeast</th>\n",
       "      <th>region_northwest</th>\n",
       "      <th>region_southeast</th>\n",
       "      <th>region_southwest</th>\n",
       "    </tr>\n",
       "  </thead>\n",
       "  <tbody>\n",
       "    <tr>\n",
       "      <th>0</th>\n",
       "      <td>19</td>\n",
       "      <td>27.900</td>\n",
       "      <td>0</td>\n",
       "      <td>16884.92400</td>\n",
       "      <td>1.0</td>\n",
       "      <td>0.0</td>\n",
       "      <td>0.0</td>\n",
       "      <td>1.0</td>\n",
       "      <td>0.0</td>\n",
       "      <td>0.0</td>\n",
       "      <td>0.0</td>\n",
       "      <td>1.0</td>\n",
       "    </tr>\n",
       "    <tr>\n",
       "      <th>1</th>\n",
       "      <td>18</td>\n",
       "      <td>33.770</td>\n",
       "      <td>1</td>\n",
       "      <td>1725.55230</td>\n",
       "      <td>0.0</td>\n",
       "      <td>1.0</td>\n",
       "      <td>1.0</td>\n",
       "      <td>0.0</td>\n",
       "      <td>0.0</td>\n",
       "      <td>0.0</td>\n",
       "      <td>1.0</td>\n",
       "      <td>0.0</td>\n",
       "    </tr>\n",
       "    <tr>\n",
       "      <th>2</th>\n",
       "      <td>28</td>\n",
       "      <td>33.000</td>\n",
       "      <td>3</td>\n",
       "      <td>4449.46200</td>\n",
       "      <td>0.0</td>\n",
       "      <td>1.0</td>\n",
       "      <td>1.0</td>\n",
       "      <td>0.0</td>\n",
       "      <td>0.0</td>\n",
       "      <td>0.0</td>\n",
       "      <td>1.0</td>\n",
       "      <td>0.0</td>\n",
       "    </tr>\n",
       "    <tr>\n",
       "      <th>3</th>\n",
       "      <td>33</td>\n",
       "      <td>22.705</td>\n",
       "      <td>0</td>\n",
       "      <td>21984.47061</td>\n",
       "      <td>0.0</td>\n",
       "      <td>1.0</td>\n",
       "      <td>1.0</td>\n",
       "      <td>0.0</td>\n",
       "      <td>0.0</td>\n",
       "      <td>1.0</td>\n",
       "      <td>0.0</td>\n",
       "      <td>0.0</td>\n",
       "    </tr>\n",
       "    <tr>\n",
       "      <th>4</th>\n",
       "      <td>32</td>\n",
       "      <td>28.880</td>\n",
       "      <td>0</td>\n",
       "      <td>3866.85520</td>\n",
       "      <td>0.0</td>\n",
       "      <td>1.0</td>\n",
       "      <td>1.0</td>\n",
       "      <td>0.0</td>\n",
       "      <td>0.0</td>\n",
       "      <td>1.0</td>\n",
       "      <td>0.0</td>\n",
       "      <td>0.0</td>\n",
       "    </tr>\n",
       "    <tr>\n",
       "      <th>5</th>\n",
       "      <td>31</td>\n",
       "      <td>25.740</td>\n",
       "      <td>0</td>\n",
       "      <td>3756.62160</td>\n",
       "      <td>1.0</td>\n",
       "      <td>0.0</td>\n",
       "      <td>1.0</td>\n",
       "      <td>0.0</td>\n",
       "      <td>0.0</td>\n",
       "      <td>0.0</td>\n",
       "      <td>1.0</td>\n",
       "      <td>0.0</td>\n",
       "    </tr>\n",
       "    <tr>\n",
       "      <th>6</th>\n",
       "      <td>46</td>\n",
       "      <td>33.440</td>\n",
       "      <td>1</td>\n",
       "      <td>8240.58960</td>\n",
       "      <td>1.0</td>\n",
       "      <td>0.0</td>\n",
       "      <td>1.0</td>\n",
       "      <td>0.0</td>\n",
       "      <td>0.0</td>\n",
       "      <td>0.0</td>\n",
       "      <td>1.0</td>\n",
       "      <td>0.0</td>\n",
       "    </tr>\n",
       "    <tr>\n",
       "      <th>7</th>\n",
       "      <td>37</td>\n",
       "      <td>27.740</td>\n",
       "      <td>3</td>\n",
       "      <td>7281.50560</td>\n",
       "      <td>1.0</td>\n",
       "      <td>0.0</td>\n",
       "      <td>1.0</td>\n",
       "      <td>0.0</td>\n",
       "      <td>0.0</td>\n",
       "      <td>1.0</td>\n",
       "      <td>0.0</td>\n",
       "      <td>0.0</td>\n",
       "    </tr>\n",
       "    <tr>\n",
       "      <th>8</th>\n",
       "      <td>37</td>\n",
       "      <td>29.830</td>\n",
       "      <td>2</td>\n",
       "      <td>6406.41070</td>\n",
       "      <td>0.0</td>\n",
       "      <td>1.0</td>\n",
       "      <td>1.0</td>\n",
       "      <td>0.0</td>\n",
       "      <td>1.0</td>\n",
       "      <td>0.0</td>\n",
       "      <td>0.0</td>\n",
       "      <td>0.0</td>\n",
       "    </tr>\n",
       "    <tr>\n",
       "      <th>9</th>\n",
       "      <td>60</td>\n",
       "      <td>25.840</td>\n",
       "      <td>0</td>\n",
       "      <td>28923.13692</td>\n",
       "      <td>1.0</td>\n",
       "      <td>0.0</td>\n",
       "      <td>1.0</td>\n",
       "      <td>0.0</td>\n",
       "      <td>0.0</td>\n",
       "      <td>1.0</td>\n",
       "      <td>0.0</td>\n",
       "      <td>0.0</td>\n",
       "    </tr>\n",
       "  </tbody>\n",
       "</table>\n",
       "</div>"
      ],
      "text/plain": [
       "   age     bmi  children      charges  sex_female  sex_male  smoker_no  \\\n",
       "0   19  27.900         0  16884.92400         1.0       0.0        0.0   \n",
       "1   18  33.770         1   1725.55230         0.0       1.0        1.0   \n",
       "2   28  33.000         3   4449.46200         0.0       1.0        1.0   \n",
       "3   33  22.705         0  21984.47061         0.0       1.0        1.0   \n",
       "4   32  28.880         0   3866.85520         0.0       1.0        1.0   \n",
       "5   31  25.740         0   3756.62160         1.0       0.0        1.0   \n",
       "6   46  33.440         1   8240.58960         1.0       0.0        1.0   \n",
       "7   37  27.740         3   7281.50560         1.0       0.0        1.0   \n",
       "8   37  29.830         2   6406.41070         0.0       1.0        1.0   \n",
       "9   60  25.840         0  28923.13692         1.0       0.0        1.0   \n",
       "\n",
       "   smoker_yes  region_northeast  region_northwest  region_southeast  \\\n",
       "0         1.0               0.0               0.0               0.0   \n",
       "1         0.0               0.0               0.0               1.0   \n",
       "2         0.0               0.0               0.0               1.0   \n",
       "3         0.0               0.0               1.0               0.0   \n",
       "4         0.0               0.0               1.0               0.0   \n",
       "5         0.0               0.0               0.0               1.0   \n",
       "6         0.0               0.0               0.0               1.0   \n",
       "7         0.0               0.0               1.0               0.0   \n",
       "8         0.0               1.0               0.0               0.0   \n",
       "9         0.0               0.0               1.0               0.0   \n",
       "\n",
       "   region_southwest  \n",
       "0               1.0  \n",
       "1               0.0  \n",
       "2               0.0  \n",
       "3               0.0  \n",
       "4               0.0  \n",
       "5               0.0  \n",
       "6               0.0  \n",
       "7               0.0  \n",
       "8               0.0  \n",
       "9               0.0  "
      ]
     },
     "execution_count": 327,
     "metadata": {},
     "output_type": "execute_result"
    }
   ],
   "source": [
    "insurance_data_frame.head(10)"
   ]
  },
  {
   "cell_type": "code",
   "execution_count": 328,
   "id": "c28b6754",
   "metadata": {},
   "outputs": [
    {
     "name": "stdout",
     "output_type": "stream",
     "text": [
      "1121.8739\n",
      "63770.42801\n"
     ]
    }
   ],
   "source": [
    "print(insurance_data_frame['charges'].min())\n",
    "print(insurance_data_frame['charges'].max())"
   ]
  },
  {
   "cell_type": "markdown",
   "id": "a80fdabe",
   "metadata": {},
   "source": [
    "## Separação dos dados de treino e teste"
   ]
  },
  {
   "cell_type": "code",
   "execution_count": 329,
   "id": "2f2fb11e",
   "metadata": {},
   "outputs": [],
   "source": [
    "x = insurance_data_frame.drop(columns=['charges'])\n",
    "y = insurance_data_frame['charges']"
   ]
  },
  {
   "cell_type": "code",
   "execution_count": 330,
   "id": "43d1e938",
   "metadata": {},
   "outputs": [],
   "source": [
    "x_train, x_test, y_train, y_test = train_test_split(x, y, test_size=0.3, random_state=42)"
   ]
  },
  {
   "cell_type": "markdown",
   "id": "403c3564",
   "metadata": {},
   "source": [
    "## Avaliação do modelo de Árvore de Decisão"
   ]
  },
  {
   "cell_type": "markdown",
   "id": "ec56b800",
   "metadata": {},
   "source": [
    "### Sem tratamento de outliers"
   ]
  },
  {
   "cell_type": "code",
   "execution_count": 331,
   "id": "9bf752f5",
   "metadata": {},
   "outputs": [],
   "source": [
    "def avaliar_modelo(y_true, y_pred, conjunto):\n",
    "    print(f'\\nResultados para {conjunto}:')\n",
    "    print(f'  R²: {r2_score(y_true, y_pred):.4f}')\n",
    "    print(f'  MSE: {mean_squared_error(y_true, y_pred):.4f}')\n",
    "    print(f'  RMSE: {np.sqrt(mean_squared_error(y_true, y_pred)):.4f}')\n",
    "    print(f'  MAPE: {mean_absolute_percentage_error(y_true, y_pred) * 100:.4f}%')"
   ]
  },
  {
   "cell_type": "code",
   "execution_count": 332,
   "id": "e2026879",
   "metadata": {},
   "outputs": [
    {
     "name": "stdout",
     "output_type": "stream",
     "text": [
      "Avaliações\n",
      "\n",
      "Resultados para Treino:\n",
      "  R²: 0.8779\n",
      "  MSE: 17877779.8262\n",
      "  RMSE: 4228.2124\n",
      "  MAPE: 27.4184%\n",
      "\n",
      "Resultados para Teste:\n",
      "  R²: 0.8571\n",
      "  MSE: 20957332.6058\n",
      "  RMSE: 4577.9179\n",
      "  MAPE: 30.8484%\n"
     ]
    }
   ],
   "source": [
    "tree = DecisionTreeRegressor(max_depth=5, random_state=42)\n",
    "tree.fit(x_train, y_train)\n",
    "\n",
    "y_train_pred = tree.predict(x_train)\n",
    "y_test_pred = tree.predict(x_test)\n",
    "\n",
    "print('Avaliações')\n",
    "avaliar_modelo(y_train, y_train_pred, \"Treino\")\n",
    "avaliar_modelo(y_test, y_test_pred, \"Teste\")"
   ]
  },
  {
   "cell_type": "markdown",
   "id": "3ed683a5",
   "metadata": {},
   "source": [
    "## Avaliação dos atributos que contribuem para o target"
   ]
  },
  {
   "cell_type": "code",
   "execution_count": 333,
   "id": "d40aa97d",
   "metadata": {},
   "outputs": [
    {
     "data": {
      "image/png": "[encoded data removed]",
      "text/plain": [
       "<Figure size 1000x600 with 1 Axes>"
      ]
     },
     "metadata": {},
     "output_type": "display_data"
    }
   ],
   "source": [
    "importances = tree.feature_importances_\n",
    "features = x_train.columns\n",
    "data_frame_importances = pd.DataFrame({'Feature': features, 'Importance': importances})\n",
    "data_frame_importances = data_frame_importances.sort_values(by='Importance', ascending=False)\n",
    "\n",
    "plt.figure(figsize=(10,6))\n",
    "plt.barh(data_frame_importances['Feature'], data_frame_importances['Importance'])\n",
    "plt.gca().invert_yaxis()\n",
    "plt.title(\"Importância das Features (Decision Tree)\")\n",
    "plt.show()"
   ]
  },
  {
   "cell_type": "code",
   "execution_count": 334,
   "id": "79ef88ee",
   "metadata": {},
   "outputs": [
    {
     "name": "stdout",
     "output_type": "stream",
     "text": [
      "             Feature      F-Score        p-Value\n",
      "6         smoker_yes  2177.614868  8.271436e-283\n",
      "5          smoker_no  2177.614868  8.271436e-283\n",
      "0                age   131.174013   4.886693e-29\n",
      "1                bmi    54.709308   2.459086e-13\n",
      "9   region_southeast     7.352531   6.782699e-03\n",
      "2           children     6.206037   1.285213e-02\n",
      "3         sex_female     4.399702   3.613272e-02\n",
      "4           sex_male     4.399702   3.613272e-02\n",
      "10  region_southwest     2.499121   1.141466e-01\n",
      "8   region_northwest     2.130837   1.445970e-01\n",
      "7   region_northeast     0.053852   8.165264e-01\n"
     ]
    }
   ],
   "source": [
    "from sklearn.feature_selection import SelectKBest, f_regression\n",
    "\n",
    "selector = SelectKBest(score_func=f_regression, k='all')\n",
    "selector.fit(x, y)\n",
    "\n",
    "# Ver os scores\n",
    "feature_scores = pd.DataFrame({\n",
    "    'Feature': x.columns,\n",
    "    'F-Score': selector.scores_,\n",
    "    'p-Value': selector.pvalues_\n",
    "}).sort_values(by='F-Score', ascending=False)\n",
    "\n",
    "print(feature_scores)"
   ]
  },
  {
   "cell_type": "code",
   "execution_count": 335,
   "id": "05a41f5a",
   "metadata": {},
   "outputs": [
    {
     "name": "stdout",
     "output_type": "stream",
     "text": [
      "Avaliações\n",
      "\n",
      "Resultados para Treino:\n",
      "  R²: 0.8721\n",
      "  MSE: 18733336.0853\n",
      "  RMSE: 4328.2024\n",
      "  MAPE: 30.9130%\n",
      "\n",
      "Resultados para Teste:\n",
      "  R²: 0.8544\n",
      "  MSE: 21348183.1451\n",
      "  RMSE: 4620.4094\n",
      "  MAPE: 34.5197%\n"
     ]
    }
   ],
   "source": [
    "new_x = x.drop(columns=['region_southeast', 'children', 'sex_female', 'sex_male', 'region_southwest', 'region_northwest', 'region_northeast'])\n",
    "x_train, x_test, y_train, y_test = train_test_split(new_x, y, test_size=0.3, random_state=42)\n",
    "tree = DecisionTreeRegressor(max_depth=5, random_state=42)\n",
    "tree.fit(x_train, y_train)\n",
    "\n",
    "y_train_pred = tree.predict(x_train)\n",
    "y_test_pred = tree.predict(x_test)\n",
    "\n",
    "print('Avaliações')\n",
    "avaliar_modelo(y_train, y_train_pred, \"Treino\")\n",
    "avaliar_modelo(y_test, y_test_pred, \"Teste\")\n"
   ]
  },
  {
   "cell_type": "markdown",
   "id": "9d52836a",
   "metadata": {},
   "source": [
    "## Resultados para Regressão Linear (sem tratativa de dados):\n",
    "```plain text\n",
    "Treino:\n",
    "  R²: 0.7417\n",
    "  MSE: 37277681.7020\n",
    "  RMSE: 6105.5452\n",
    "  MAPE: 42.2027%\n",
    "Teste:\n",
    "  R²: 0.7836\n",
    "  MSE: 33596915.8514\n",
    "  RMSE: 5796.2847\n",
    "  MAPE: 46.888\n",
    "```\n",
    "\n",
    "## Resultados para Regressão Linear (tratando os outliers do meu target com transformação logarítmica)\n",
    "```plain text\n",
    "Treino:\n",
    "  R²: 0.7572\n",
    "  MSE: 0.2016\n",
    "  RMSE: 0.4490\n",
    "  MAPE: 3.0773%\n",
    "Teste:\n",
    "  R²: 0.8047\n",
    "  MSE: 0.1756\n",
    "  RMSE: 0.4190\n",
    "  MAPE: 2.9975\n",
    "```\n",
    "\n",
    "## Resultado para Arvore de Decisão\n",
    "```plain text\n",
    "Avaliações\n",
    "\n",
    "Resultados para Treino:\n",
    "  R²: 0.8779\n",
    "  MSE: 17877779.8262\n",
    "  RMSE: 4228.2124\n",
    "  MAPE: 27.4184%\n",
    "\n",
    "Resultados para Teste:\n",
    "  R²: 0.8571\n",
    "  MSE: 20957332.6058\n",
    "  RMSE: 4577.9179\n",
    "  MAPE: 30.8484%\n",
    "\n",
    "-- com menos campos\n",
    "Resultados para Treino:\n",
    "  R²: 0.8721\n",
    "  MSE: 18733336.0853\n",
    "  RMSE: 4328.2024\n",
    "  MAPE: 30.9130%\n",
    "\n",
    "Resultados para Teste:\n",
    "  R²: 0.8544\n",
    "  MSE: 21348183.1451\n",
    "  RMSE: 4620.4094\n",
    "  MAPE: 34.5197%\n",
    "```"
   ]
  }
 ],
 "metadata": {
  "kernelspec": {
   "display_name": "Python 3",
   "language": "python",
   "name": "python3"
  },
  "language_info": {
   "codemirror_mode": {
    "name": "ipython",
    "version": 3
   },
   "file_extension": ".py",
   "mimetype": "text/x-python",
   "name": "python",
   "nbconvert_exporter": "python",
   "pygments_lexer": "ipython3",
   "version": "3.13.1"
  }
 },
 "nbformat": 4,
 "nbformat_minor": 5
}
