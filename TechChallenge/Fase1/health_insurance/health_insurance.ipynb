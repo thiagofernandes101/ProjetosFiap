{
 "cells": [
  {
   "cell_type": "markdown",
   "id": "53836a80",
   "metadata": {},
   "source": [
    "## Arquivo para trabalho do techchallenge"
   ]
  }
 ],
 "metadata": {
  "language_info": {
   "name": "python"
  }
 },
 "nbformat": 4,
 "nbformat_minor": 5
}
